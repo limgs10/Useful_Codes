{
 "cells": [
  {
   "cell_type": "code",
   "execution_count": 213,
   "id": "33cc55ec-8988-41bb-a898-2c8344bb6121",
   "metadata": {},
   "outputs": [
    {
     "name": "stdout",
     "output_type": "stream",
     "text": [
      "                   target  Unnamed: 1  Unnamed: 2  Unnamed: 3 #Bulge type  \\\n",
      "0    GCATGTTTAGTCGCCACAAT         NaN         NaN         NaN           X   \n",
      "1    GGCGTACCGCACACCCGACA         NaN         NaN         NaN         DNA   \n",
      "2    AATTCCTGAGCGAAATAGCC         NaN         NaN         NaN         DNA   \n",
      "3    AGTGATGACGCCAGCCGATC         NaN         NaN         NaN         DNA   \n",
      "4    ATGACGCCAGCCGATCCGGA         NaN         NaN         NaN         RNA   \n",
      "..                    ...         ...         ...         ...         ...   \n",
      "593                   NaN         NaN         NaN         NaN         RNA   \n",
      "594                   NaN         NaN         NaN         NaN         RNA   \n",
      "595                   NaN         NaN         NaN         NaN         RNA   \n",
      "596                   NaN         NaN         NaN         NaN         RNA   \n",
      "597                   NaN         NaN         NaN         NaN         RNA   \n",
      "\n",
      "                    crRNA                       DNA   Chromosome  Position  \\\n",
      "0    GCATGTTTAGTCGCCACAAT   GCATGTTTAGTCGCCACAATCGG  E.coli_K-12    831247   \n",
      "1    GCATGTTTAGTCGCCACAAT  cGCATGTTTAGTCGCCACAATCGG  E.coli_K-12    831247   \n",
      "2    GCATGTTTAGTCGCCACAAT  cgCATGTTTAGTCGCCACAATCGG  E.coli_K-12    831247   \n",
      "3    GCATGTTTAGTCGCCACAAT  cgcATGTTTAGTCGCCACAATCGG  E.coli_K-12    831247   \n",
      "4    GCATGTTTAGTCGCCACAAT   c-ATGTTTAGTCGCCACAATCGG  E.coli_K-12    831247   \n",
      "..                    ...                       ...          ...       ...   \n",
      "593  GTTTCAACTTCGGGTAATTC   GTTTCAACTTCGGG-tAaTtCAG  E.coli_K-12    830504   \n",
      "594  GTTTCAACTTCGGGTAATTC   GTTTCAACTTCGGGT-AaTtCAG  E.coli_K-12    830504   \n",
      "595  GTTTCAACTTCGGGTAATTC   GTTTCAACTTCGGGTA-aTtCAG  E.coli_K-12    830504   \n",
      "596  GTTTCAACTTCGGGTAATTC   GTTTCAACTTCGGGTAA-TtCAG  E.coli_K-12    830504   \n",
      "597  GTTTCAACTTCGGGTAATTC   GTTTCAACTTCGGGTAAT-tCAG  E.coli_K-12    830504   \n",
      "\n",
      "    Direction  Mismatches  Bulge Size  \n",
      "0           -           0           0  \n",
      "1           -           1           1  \n",
      "2           -           2           1  \n",
      "3           -           3           1  \n",
      "4           -           1           1  \n",
      "..        ...         ...         ...  \n",
      "593         -           3           1  \n",
      "594         -           2           1  \n",
      "595         -           2           1  \n",
      "596         -           1           1  \n",
      "597         -           1           1  \n",
      "\n",
      "[598 rows x 12 columns]\n",
      "                   target\n",
      "0    GCATGTTTAGTCGCCACAAT\n",
      "7    CCATTGAAATCGTCGCTAAG\n",
      "10   AAGCGGCTCCGGTCCAAGAT\n",
      "15   GGCACCAAAGCGGCGCGGAT\n",
      "17   TCCACATGGTCATGCTTTTC\n",
      "..                    ...\n",
      "593                   NaN\n",
      "594                   NaN\n",
      "595                   NaN\n",
      "596                   NaN\n",
      "597                   NaN\n",
      "\n",
      "[569 rows x 1 columns]\n"
     ]
    }
   ],
   "source": [
    "import pandas as pd\n",
    "\n",
    "grna = pandas.read_excel('C:/Users/최민재/test/gRNA off target.xlsx',sheet_name = 3)\n",
    "print (grna)\n",
    "df = grna.loc[:, ['crRNA' ,'Position']]\n",
    "\n",
    "df_2 = grna.loc[:, ['target']]\n",
    "\n",
    "i=0\n",
    "\n",
    "l = len(df)\n",
    "\n",
    "while i < l:\n",
    "    ps = df.iloc [i]['Position']\n",
    "    cr = df.iloc [i]['crRNA']\n",
    "    if ps > 831247 or ps < 830503:\n",
    "        idx = df_2[df_2['target']==cr].index\n",
    "        df_2 = df_2.drop(idx)\n",
    "    i=i+1\n",
    "\n",
    "print (df_2)\n",
    "\n",
    "df_2.to_excel(\"C:/Users/최민재/test/mutM rev.xlsx\")"
   ]
  }
 ],
 "metadata": {
  "kernelspec": {
   "display_name": "Python 3 (ipykernel)",
   "language": "python",
   "name": "python3"
  },
  "language_info": {
   "codemirror_mode": {
    "name": "ipython",
    "version": 3
   },
   "file_extension": ".py",
   "mimetype": "text/x-python",
   "name": "python",
   "nbconvert_exporter": "python",
   "pygments_lexer": "ipython3",
   "version": "3.12.4"
  }
 },
 "nbformat": 4,
 "nbformat_minor": 5
}
