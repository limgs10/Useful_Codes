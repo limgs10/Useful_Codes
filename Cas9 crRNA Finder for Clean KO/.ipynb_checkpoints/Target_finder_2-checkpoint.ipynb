{
 "cells": [
  {
   "cell_type": "code",
   "execution_count": 3,
   "id": "1e00a9d4-0e25-4938-a056-4600f7e80804",
   "metadata": {},
   "outputs": [
    {
     "name": "stdout",
     "output_type": "stream",
     "text": [
      "                  target\n",
      "1   ATTCTTTTTTACCTGCCTGA\n",
      "2   TACCTGCCTGACGGAATGTC\n",
      "3   GACGGAATGTCAGGTTGTAG\n",
      "4   CAGGTTGTAGCGGCAGTCGA\n",
      "5   TAGCGGCAGTCGATGGTGAG\n",
      "..                   ...\n",
      "86  CCGCAGCGTTAAAAGCAAAA\n",
      "87  CGCAGCGTTAAAAGCAAAAC\n",
      "88  GCAGCGTTAAAAGCAAAACG\n",
      "89  GCTCTTGCCACGGTTCAGCA\n",
      "90  TTGCCACGGTTCAGCATCGG\n",
      "\n",
      "[90 rows x 1 columns]\n"
     ]
    }
   ],
   "source": [
    "import pandas as pd\n",
    "\n",
    "from snapgene_reader import snapgene_file_to_dict\n",
    "from Bio import Seq\n",
    "import os\n",
    "\n",
    "file_path = \"C:/Users/최민재/Useful_Codes/ec_alkB.dna\"\n",
    "dictionary = snapgene_file_to_dict(file_path)\n",
    "\n",
    "# PAM 주변의 crRNA sequence를 담을 1열짜리 빈 데이터프레임을 제작\n",
    "target_df = pd.DataFrame(index = range(0,),columns = [\"target\"])\n",
    "\n",
    "# 전체 sequence 중 앞 500, 뒤 500 base를 제외한 gene of interest sequence를 따오기\n",
    "gene_seq = dictionary['seq'][500:-499]\n",
    "\n",
    "seq = Seq.Seq (gene_seq)\n",
    "length = len(gene_seq)\n",
    "gene_rev = seq.reverse_complement()\n",
    "\n",
    "#reverse complement에서도 crRNA를 찾아야 하므로 gene_rev에 sequence를 저장\n",
    "\n",
    "i=21\n",
    "j=0\n",
    "\n",
    "# 22번째 base부터 GG(PAM의 2,3번째 base)가 있는 위치를 찾고 그 앞 (1 base 떨어진) 20개의 base를 따와서 빈 데이터베이스에 저장\n",
    "while i < length:\n",
    "    PAM = gene_seq [i:i+2]\n",
    "    if PAM == 'GG':\n",
    "        j = j+1\n",
    "        target = gene_seq [i-21:i-1]\n",
    "        target_df.loc[j] = [target]\n",
    "    i=i+1\n",
    "\n",
    "#reverse complement에 대해 동일한 작업을 수행\n",
    "i=21\n",
    "while i < length:\n",
    "    PAM = gene_rev [i:i+2]\n",
    "    if PAM == 'GG':\n",
    "        j = j+1\n",
    "        target = gene_seq [i-21:i-1]\n",
    "        target_df.loc[j] = [target]\n",
    "    i=i+1\n",
    "\n",
    "print (target_df)\n",
    "\n",
    "#데이터베이스를 엑셀 파일로 저장\n",
    "\n",
    "target_df.to_excel(\"C:/Users/최민재/Useful_Codes/alkB_target.xlsx\")"
   ]
  },
  {
   "cell_type": "code",
   "execution_count": null,
   "id": "4f0e1ba2-0a09-4060-b4ce-1a844f3add8b",
   "metadata": {},
   "outputs": [],
   "source": []
  }
 ],
 "metadata": {
  "kernelspec": {
   "display_name": "Python 3 (ipykernel)",
   "language": "python",
   "name": "python3"
  },
  "language_info": {
   "codemirror_mode": {
    "name": "ipython",
    "version": 3
   },
   "file_extension": ".py",
   "mimetype": "text/x-python",
   "name": "python",
   "nbconvert_exporter": "python",
   "pygments_lexer": "ipython3",
   "version": "3.12.4"
  }
 },
 "nbformat": 4,
 "nbformat_minor": 5
}
