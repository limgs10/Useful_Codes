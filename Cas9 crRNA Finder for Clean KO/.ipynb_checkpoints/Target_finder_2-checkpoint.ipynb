{
 "cells": [
  {
   "cell_type": "code",
   "execution_count": 287,
   "id": "33cc55ec-8988-41bb-a898-2c8344bb6121",
   "metadata": {},
   "outputs": [
    {
     "name": "stdout",
     "output_type": "stream",
     "text": [
      "                         crRNA  Position\n",
      "0      ATTCTTTTTTACCTGCCTGANRG   2332937\n",
      "1     A-TTCTTTTTTACCTGCCTGANRG   2332937\n",
      "2     AT-TCTTTTTTACCTGCCTGANRG   2332937\n",
      "3     ATT-CTTTTTTACCTGCCTGANRG   2332937\n",
      "4     ATTC-TTTTTTACCTGCCTGANRG   2332937\n",
      "...                        ...       ...\n",
      "1683   AACCTGACATTCCGTCAGGCNRG    384909\n",
      "1684   AACCTGACATTCCGTCAGGCNRG   2332926\n",
      "1685   AACCTGACATTCCGTCAGGCNRG   2332926\n",
      "1686   AACCTGACATTCCGTCAGGCNRG   2332926\n",
      "1687   AACCTGACATTCCGTCAGGCNRG   2332926\n",
      "\n",
      "[1688 rows x 2 columns]\n",
      "                  target\n",
      "0   ATTCTTTTTTACCTGCCTGA\n",
      "1   TACCTGCCTGACGGAATGTC\n",
      "2   GACGGAATGTCAGGTTGTAG\n",
      "3   CAGGTTGTAGCGGCAGTCGA\n",
      "4   TAGCGGCAGTCGATGGTGAG\n",
      "..                   ...\n",
      "85  CGGTATTCAACCGTTGAAAG\n",
      "86  GGTATTCAACCGTTGAAAGC\n",
      "87  GTATTCAACCGTTGAAAGCG\n",
      "88  CTACAACCTGACATTCCGTC\n",
      "89  AACCTGACATTCCGTCAGGC\n",
      "\n",
      "[90 rows x 1 columns]\n",
      "                  target\n",
      "22  GGCCACGGTTTATTTGTTTG\n",
      "23  TTTATTTGTTTGCGGATCAA\n",
      "26  ATAGAGATAACCTTGCCGAT\n",
      "29  CACCGACATGGTATATCCCC\n",
      "32  CGACATGGTATATCCCCCGG\n",
      "33  ATCCCCCGGGGGTGACCATC\n",
      "42  TGAACCGTGGCAAGAGCCAC\n",
      "43  ACCGTGGCAAGAGCCACTGG\n",
      "53  CCCCGGGGGATATACCATGT\n",
      "60  ATCTGGGCTGGACGACCCAT\n",
      "88  CTACAACCTGACATTCCGTC\n"
     ]
    }
   ],
   "source": [
    "import pandas as pd\n",
    "\n",
    "# 엑셀을 가져온 뒤 crRNA와 Position은 df에, target (crRNA를 하나씩 모은 열)은 df_2에 추가\n",
    "grna = pd.read_excel('C:/Users/최민재/Useful_Codes/Cas9 crRNA Finder for Clean KO/alkB_target_2.xlsx')\n",
    "\n",
    "df = grna.loc[:, ['crRNA' ,'Position']]\n",
    "\n",
    "print (df)\n",
    "\n",
    "df_2 = grna.loc[:, ['target']]\n",
    "df_2 = df_2.replace('', pd.NA)\n",
    "df_2 = df_2.dropna()\n",
    "target_df = pd.DataFrame(df_2, columns = ['target'])\n",
    "print(target_df)\n",
    "\n",
    "\n",
    "i=0\n",
    "\n",
    "l = len(df)\n",
    "\n",
    "# Position 중 gene of interest에 겹치지 않는 (off-target)이 있는 경우 해당 crRNA를 df_2에서 삭제\n",
    "\n",
    "while i < l:\n",
    "    ps = int(df.iloc [i,1])\n",
    "    cr = str(df.iloc [i,0].replace('-', '').replace('NRG', ''))\n",
    "    if ps > 2332937 or ps < 2332327:\n",
    "        target_df = target_df[target_df.target != cr]\n",
    "    i=i+1\n",
    "\n",
    "print (target_df)\n",
    "\n",
    "target_df.to_excel(\"C:/Users/최민재/Useful_Codes/Cas9 crRNA Finder for Clean KO/alkB_target_3.xlsx\")"
   ]
  }
 ],
 "metadata": {
  "kernelspec": {
   "display_name": "Python 3 (ipykernel)",
   "language": "python",
   "name": "python3"
  },
  "language_info": {
   "codemirror_mode": {
    "name": "ipython",
    "version": 3
   },
   "file_extension": ".py",
   "mimetype": "text/x-python",
   "name": "python",
   "nbconvert_exporter": "python",
   "pygments_lexer": "ipython3",
   "version": "3.12.4"
  }
 },
 "nbformat": 4,
 "nbformat_minor": 5
}
